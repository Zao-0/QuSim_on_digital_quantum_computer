{
 "cells": [
  {
   "cell_type": "code",
   "execution_count": 1,
   "id": "6793db68-c802-4ab3-ba7c-64a9fc0400aa",
   "metadata": {},
   "outputs": [],
   "source": [
    "import numpy as np\n",
    "import scipy.sparse as sparse\n",
    "import scipy.sparse.linalg as linalg\n",
    "import seaborn as sns\n",
    "import matplotlib.pyplot as plt\n",
    "import quantum_sim as qusi"
   ]
  },
  {
   "cell_type": "code",
   "execution_count": 2,
   "id": "5f8a7aa7-3fba-44bb-b246-fe0b5a6a36ee",
   "metadata": {},
   "outputs": [
    {
     "name": "stdout",
     "output_type": "stream",
     "text": [
      "Id\n",
      "Px_0\n",
      "Py_1\n",
      "Pz_3\n"
     ]
    }
   ],
   "source": [
    "# print the operators\n",
    "print(qusi.Id(1))\n",
    "print(qusi.Px(1,0))\n",
    "print(qusi.Py(1,1))\n",
    "print(qusi.Pz(1,3))"
   ]
  },
  {
   "cell_type": "code",
   "execution_count": 2,
   "id": "40e298f6-1a81-4225-98a8-68d56079acb1",
   "metadata": {},
   "outputs": [
    {
     "name": "stdout",
     "output_type": "stream",
     "text": [
      "(8) (Px_0) @ (Px_1)\n"
     ]
    }
   ],
   "source": [
    "# construct a simple product Hamiltonian: H=4(Px_0@2Px_1)\n",
    "H = qusi.ProductOp([qusi.Px(1,0),qusi.Px(2,1)],4)\n",
    "print(H)"
   ]
  },
  {
   "cell_type": "code",
   "execution_count": 3,
   "id": "c49d8a04-8052-46de-84e4-1eff4087468b",
   "metadata": {},
   "outputs": [
    {
     "name": "stdout",
     "output_type": "stream",
     "text": [
      "[[0.+0.j 0.+0.j 0.+0.j 8.+0.j]\n",
      " [0.+0.j 0.+0.j 8.+0.j 0.+0.j]\n",
      " [0.+0.j 8.+0.j 0.+0.j 0.+0.j]\n",
      " [8.+0.j 0.+0.j 0.+0.j 0.+0.j]]\n"
     ]
    }
   ],
   "source": [
    "# the matrix form of the Hamiltonian:\n",
    "print(H.as_dense_matrix(2))"
   ]
  },
  {
   "cell_type": "code",
   "execution_count": 2,
   "id": "d9f5c1a6-1811-444a-b186-f95a7c69eb4c",
   "metadata": {},
   "outputs": [],
   "source": [
    "# Hamiltonian for exact dig:\n",
    "def get_Hamiltonian(N,J,U,h_list):\n",
    "    assert N==len(h_list)\n",
    "    H = qusi.SumOp([qusi.ProductOp([qusi.Px(1,i),qusi.Px(1,i+1)],-J) for i in range(N-1)]\n",
    "                   +[qusi.ProductOp([qusi.Py(1,i),qusi.Py(1,i+1)],-J) for i in range(N-1)]\n",
    "                  +[qusi.ProductOp([qusi.Pz(1,i),qusi.Pz(1,i+1)],U) for i in range(N-1)]\n",
    "                  +[qusi.Pz(h_list[i],i) for i in range(N)])\n",
    "    return H\n",
    "\n",
    "#Hamiltonian for Trotter:\n",
    "\"\"\"\n",
    "EvenBond:   ┌────┐      OddBond:               SingleGate:   ┌────┐\n",
    "    q0   ---│    │------        -------------             ---│    │----\n",
    "            │    │                                           └────┘\n",
    "            │    │                 ┌────┐                    ┌────┐\n",
    "    q1   ---│    │------        ---│    │----             ---│    │----\n",
    "            └────┘                 │    │                    └────┘\n",
    "            ┌────┐                 │    │                    ┌────┐\n",
    "    q2   ---│    │------        ---│    │----             ---│    │----\n",
    "            │    │                 └────┘                    └────┘\n",
    "            │    │                                           ┌────┐\n",
    "    q3   ---│    │------        -------------             ---│    │----\n",
    "            └────┘                                           └────┘\n",
    "\"\"\"\n",
    "def get_trotter_Hamiltonian(N,J,U,h_list):\n",
    "    assert N==len(h_list)\n",
    "    evens = []\n",
    "    odds = []\n",
    "    for i in range(N):\n",
    "        if i%2==0:\n",
    "            evens.append(i)\n",
    "        else:\n",
    "            odds.append(i)\n",
    "    # The even bond hamiltonian\n",
    "    H0 = qusi.SumOp([qusi.ProductOp([qusi.Px(1,i),qusi.Px(1,i+1)],-J) for i in evens]\n",
    "                   +[qusi.ProductOp([qusi.Py(1,i),qusi.Py(1,i+1)],-J) for i in evens]\n",
    "                  +[qusi.ProductOp([qusi.Pz(1,i),qusi.Pz(1,i+1)],U) for i in evens])\n",
    "    # The odd bond hamiltonian\n",
    "    H1 = qusi.SumOp([qusi.ProductOp([qusi.Px(1,i),qusi.Px(1,i+1)],-J) for i in odds]\n",
    "                   +[qusi.ProductOp([qusi.Py(1,i),qusi.Py(1,i+1)],-J) for i in odds]\n",
    "                  +[qusi.ProductOp([qusi.Pz(1,i),qusi.Pz(1,i+1)],U) for i in odds])\n",
    "    # The single gates\n",
    "    H2 = qusi.SumOp([qusi.Pz(h_list[i],i) for i in range(N)])\n",
    "    return [H0,H1,H2]\n",
    "\n",
    "def exact_diag(H,T,t_step):\n",
    "    return linalg.expm((0-1j)*T/t_step*H)\n",
    "\n",
    "def basic_trotter(H_list,T,t_step):\n",
    "    return [linalg.expm((0-1j)*T/t_step*H) for H in H_list]\n",
    "\n",
    "def symmetric_trotter(H_list,T,t_step):\n",
    "    return [linalg.expm((0-1j)*T/t_step*H_list[0]), linalg.expm((0-.5j)*T/t_step*H_list[1]),linalg.expm((0-.5j)*T/t_step*H_list[2])]"
   ]
  },
  {
   "cell_type": "code",
   "execution_count": 3,
   "id": "0a557f61-4379-400f-b6d0-e4d5e78f638f",
   "metadata": {},
   "outputs": [],
   "source": [
    "def get_initial_state(N,s=0):\n",
    "    if s==0:\n",
    "        l0 = [1 for i in range(int(N/2))]\n",
    "        l1 = [0 for i in range(int(N-N/2))]\n",
    "        return qusi.qstate(l0+l1)\n",
    "    else:\n",
    "        return qusi.qstate([i%2 for i in range(N)])"
   ]
  },
  {
   "cell_type": "code",
   "execution_count": 7,
   "id": "06b9c097-bcaa-4a0c-9edc-1460d3f58366",
   "metadata": {},
   "outputs": [],
   "source": [
    "# test the Hamiltonian:\n",
    "N = 6\n",
    "J = 1\n",
    "U = 0\n",
    "h = 0\n",
    "#h = 1.5\n",
    "h_list = [i*h for i in range(N)]\n",
    "\n",
    "T = 3\n",
    "t_step = 30\n",
    "s = 0\n",
    "#s = 1"
   ]
  },
  {
   "cell_type": "code",
   "execution_count": 8,
   "id": "b48c50ab-fdeb-4697-946b-e10a837be779",
   "metadata": {},
   "outputs": [
    {
     "name": "stderr",
     "output_type": "stream",
     "text": [
      "D:\\Anaconda3\\Lib\\site-packages\\scipy\\sparse\\linalg\\_matfuncs.py:707: SparseEfficiencyWarning: spsolve requires A be CSC or CSR matrix format\n",
      "  return spsolve(Q, P)\n",
      "D:\\Anaconda3\\Lib\\site-packages\\scipy\\sparse\\linalg\\_matfuncs.py:707: SparseEfficiencyWarning: spsolve is more efficient when sparse b is in the CSC matrix format\n",
      "  return spsolve(Q, P)\n",
      "C:\\Users\\God_Zao\\AppData\\Local\\Temp\\ipykernel_8724\\661156906.py:12: ComplexWarning: Casting complex values to real discards the imaginary part\n",
      "  local_mag[i][j+1] = q.local_magnetism(i)\n"
     ]
    },
    {
     "data": {
      "image/png": "[encoded data removed]",
      "text/plain": [
       "<Figure size 640x480 with 2 Axes>"
      ]
     },
     "metadata": {},
     "output_type": "display_data"
    }
   ],
   "source": [
    "# exact diagonalization:\n",
    "H = get_Hamiltonian(N,J,U,h_list)\n",
    "eH = exact_diag(H.as_sparse_matrix(N),T,t_step)\n",
    "q = get_initial_state(N,s)\n",
    "local_mag = np.zeros([N,t_step+1])\n",
    "\n",
    "for i in range(N):\n",
    "    local_mag[i][0] = q.local_magnetism(i)\n",
    "for j in range(t_step):\n",
    "    q.time_evolution(eH)\n",
    "    for i in range(N):\n",
    "        local_mag[i][j+1] = q.local_magnetism(i)\n",
    "ax = sns.heatmap(local_mag,annot = False,cmap='coolwarm')\n",
    "#ax.set_yticks([i*T/t_step for i in range(t_step+1)])\n",
    "plt.show()"
   ]
  },
  {
   "cell_type": "code",
   "execution_count": 5,
   "id": "3b86c409-ee9e-4dd5-80a4-353519ebb3ca",
   "metadata": {},
   "outputs": [
    {
     "name": "stderr",
     "output_type": "stream",
     "text": [
      "D:\\Anaconda3\\Lib\\site-packages\\scipy\\sparse\\linalg\\_matfuncs.py:707: SparseEfficiencyWarning: spsolve requires A be CSC or CSR matrix format\n",
      "  return spsolve(Q, P)\n",
      "D:\\Anaconda3\\Lib\\site-packages\\scipy\\sparse\\linalg\\_matfuncs.py:707: SparseEfficiencyWarning: spsolve is more efficient when sparse b is in the CSC matrix format\n",
      "  return spsolve(Q, P)\n"
     ]
    },
    {
     "data": {
      "text/plain": [
       "(0.994206696771613-0.09977482706387131j)"
      ]
     },
     "execution_count": 5,
     "metadata": {},
     "output_type": "execute_result"
    }
   ],
   "source": [
    "H = get_Hamiltonian(N,J,U,h_list)\n",
    "eH = exact_diag(H,T,t_step)\n",
    "q = get_initial_state(N,s)\n",
    "q.time_evolution(eH)\n",
    "q.local_magnetism(2)"
   ]
  },
  {
   "cell_type": "code",
   "execution_count": 6,
   "id": "ed852606-2a7c-4f0a-bc91-8a1f299dff2f",
   "metadata": {},
   "outputs": [
    {
     "name": "stdout",
     "output_type": "stream",
     "text": [
      "(-1) (Px_0) @ (Px_1) + (-1) (Px_1) @ (Px_2) + (-1) (Px_2) @ (Px_3) + (-1) (Px_3) @ (Px_4) + (-1) (Px_4) @ (Px_5) + (-1) (Px_5) @ (Px_6) + (-1) (Px_6) @ (Px_7) + (-1) (Py_0) @ (Py_1) + (-1) (Py_1) @ (Py_2) + (-1) (Py_2) @ (Py_3) + (-1) (Py_3) @ (Py_4) + (-1) (Py_4) @ (Py_5) + (-1) (Py_5) @ (Py_6) + (-1) (Py_6) @ (Py_7)\n"
     ]
    }
   ],
   "source": [
    "print(H)"
   ]
  },
  {
   "cell_type": "code",
   "execution_count": null,
   "id": "e4e89dfd-5b87-4813-89fb-5f61c790ef4e",
   "metadata": {},
   "outputs": [],
   "source": []
  }
 ],
 "metadata": {
  "kernelspec": {
   "display_name": "Python 3 (ipykernel)",
   "language": "python",
   "name": "python3"
  },
  "language_info": {
   "codemirror_mode": {
    "name": "ipython",
    "version": 3
   },
   "file_extension": ".py",
   "mimetype": "text/x-python",
   "name": "python",
   "nbconvert_exporter": "python",
   "pygments_lexer": "ipython3",
   "version": "3.11.5"
  }
 },
 "nbformat": 4,
 "nbformat_minor": 5
}
